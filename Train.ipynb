{
 "cells": [
  {
   "cell_type": "markdown",
   "id": "1fdd8cf1-70df-4961-afed-844af8813a41",
   "metadata": {},
   "source": [
    "# Imports & preparatory steps"
   ]
  },
  {
   "cell_type": "code",
   "execution_count": null,
   "id": "8a8e53c2-dbd2-40b3-aa5f-76fe1d366f63",
   "metadata": {},
   "outputs": [],
   "source": [
    "import os\n",
    "import os.path as osp\n",
    "import subprocess\n",
    "import torch\n",
    "import shutil\n",
    "from ruamel.yaml import YAML\n",
    "import nvidia_smi\n",
    "from torch import __version__ as torch_version\n",
    "from platform import python_version\n",
    "\n",
    "# Check CUDA is available\n",
    "assert torch.cuda.is_available(), \"CPU training is not allowed.\"\n",
    "\n",
    "# Check the number of CPUs\n",
    "# $PBS_NUM_PPN vs $OMP_NUM_THREADS?\n",
    "N_CPUS = int(os.environ[\"PBS_NUM_PPN\"])\n",
    "\n",
    "# Limit CPU operation in pytorch to `N_CPUS`\n",
    "torch.set_num_threads(N_CPUS)\n",
    "torch.set_num_interop_threads(N_CPUS)\n",
    "\n",
    "# Set username\n",
    "USER = os.environ[\"USER\"]\n",
    "\n",
    "# GPU\n",
    "n_gpus = torch.cuda.device_count()\n",
    "nvidia_smi.nvmlInit()\n",
    "# deviceCount = nvidia_smi.nvmlDeviceGetCount()\n",
    "\n",
    "print(\" > Computational resources...\")\n",
    "print(f\" | > Number of CPUs: {N_CPUS}\")\n",
    "print(f\" | > Number of GPUs: {n_gpus}\")\n",
    "for idx in range(n_gpus):\n",
    "    handle = nvidia_smi.nvmlDeviceGetHandleByIndex(idx)\n",
    "    print(f\" | > Device {idx}: {nvidia_smi.nvmlDeviceGetName(handle)}\")\n",
    "print(\" > Python & module versions...\")\n",
    "print(f\" | > Python:    {python_version()}\")\n",
    "print(f\" | > PyTorch:   {torch_version}\")\n",
    "\n",
    "nvidia_smi.nvmlShutdown()"
   ]
  },
  {
   "cell_type": "markdown",
   "id": "9b29b983-7dcd-4cdc-9577-c870bd9b4169",
   "metadata": {
    "tags": []
   },
   "source": [
    "# Settings"
   ]
  },
  {
   "cell_type": "code",
   "execution_count": null,
   "id": "952e8a89",
   "metadata": {},
   "outputs": [],
   "source": [
    "# Check interactive mode\n",
    "INTERACTIVE_MODE = bool(\"JupyterLab\" in os.environ[\"PBS_JOBNAME\"])"
   ]
  },
  {
   "cell_type": "code",
   "execution_count": null,
   "id": "ea4dc4fb",
   "metadata": {},
   "outputs": [],
   "source": [
    "# Change wav path to scratch\n",
    "def change_path_to_scratch(scratch_dir, data_dir, inp_data_file):\n",
    "    out_data_file = osp.join(scratch_dir, data_dir, osp.basename(inp_data_file))\n",
    "    with open(inp_data_file, encoding=\"utf-8\", ) as finp, open(out_data_file, \"w\", encoding=\"utf-8\") as fout:\n",
    "        for line in finp:\n",
    "            wpath, ph, spk_id = line.strip().split(\"|\")\n",
    "            wpath = osp.join(scratch_dir, wpath)\n",
    "            print(f\"{wpath}|{ph}|{spk_id}\", file=fout)\n",
    "    return out_data_file\n",
    "\n",
    "# Floats are not written in scientific notation when storing to YAML\n",
    "def float_representer(representer, data):\n",
    "    value = '{0:.15f}'.format(data).rstrip('0')\n",
    "    return representer.represent_scalar('tag:yaml.org,2002:float', value)"
   ]
  },
  {
   "cell_type": "code",
   "execution_count": null,
   "id": "284b9f3d-cfc4-42b5-89c2-6009f44c3131",
   "metadata": {
    "editable": true,
    "slideshow": {
     "slide_type": ""
    },
    "tags": [
     "parameters"
    ]
   },
   "outputs": [],
   "source": [
    "log_dir = \"checkpoints\"\n",
    "save_freq = 1 # 10\n",
    "device = \"cuda\"\n",
    "epochs = 200\n",
    "batch_size = 256\n",
    "pretrained_model = \"\"\n",
    "train_data = \"data/train_SPT-MGW.processed0.csv\"\n",
    "val_data = \"data/val_SPT-MGW.processed.csv\"\n",
    "show_progress = False\n",
    "\n",
    "preprocess_params = {\n",
    "  \"sr\": 24000,\n",
    "  \"spect_params\": {\n",
    "    \"n_fft\": 2048,\n",
    "    \"win_length\": 1200,\n",
    "    \"hop_length\": 300,\n",
    "  },\n",
    "  \"mel_params\": {\n",
    "    \"n_mels\": 80,\n",
    "  },\n",
    "}\n",
    "\n",
    "model_params = {\n",
    "   \"input_dim\": 80,\n",
    "   \"hidden_dim\": 256,\n",
    "   \"n_token\": 81,\n",
    "   \"token_embedding_dim\": 256,\n",
    "}\n",
    "\n",
    "optimizer_params = {\n",
    "  \"lr\": 0.0005,\n",
    "}"
   ]
  },
  {
   "cell_type": "markdown",
   "id": "65273fdc-b422-47d6-8358-f057a0a1a8a0",
   "metadata": {},
   "source": [
    "# Copy data to scratch dir"
   ]
  },
  {
   "cell_type": "code",
   "execution_count": null,
   "id": "075d5828-e730-4bd8-8ae3-9f6b5ba3f9ce",
   "metadata": {},
   "outputs": [],
   "source": [
    "# scratch_dir = os.environ[\"SCRATCHDIR\"]\n",
    "# if not INTERACTIVE_MODE:\n",
    "#     # Copy dataset\n",
    "#     # Prepare dataset dir in the scratch\n",
    "#     print(f\" > Copying train data to local scratch: {scratch_dir}\")\n",
    "#     train_data, n_data = copy_data_to_scratch(train_data, scratch_dir)\n",
    "#     print(f\" | > ... {n_data} files copied\")\n",
    "#     print(f\" > Copying val data to local scratch: {scratch_dir}\")\n",
    "#     val_data, n_data = copy_data_to_scratch(val_data, scratch_dir)\n",
    "#     print(f\" | > ... {n_data} files copied\")"
   ]
  },
  {
   "cell_type": "code",
   "execution_count": null,
   "id": "e0a6d7b8",
   "metadata": {},
   "outputs": [],
   "source": [
    "# Set up local scratch directory\n",
    "scratch_dir = os.environ[\"SCRATCHDIR\"]\n",
    "# Check \"interactive mode\" => data are copied when run is scheduled\n",
    "if not INTERACTIVE_MODE:\n",
    "    # Get data dir\n",
    "    data_dir = osp.dirname(osp.abspath(train_data))\n",
    "    # Copy data from remote storage & prepare dataset dir in the scratch\n",
    "    print(f\"> Copying data to local scratch: {scratch_dir}\")\n",
    "    storage_path, storage_dir = osp.split(data_dir.rstrip(os.sep))\n",
    "\n",
    "    # Define command for SSH and tar on remote server\n",
    "    ssh_command = [\n",
    "        'ssh',\n",
    "        'storage-plzen4.kky.zcu.cz',\n",
    "        f\"tar -h -C {storage_path} -cf - {storage_dir}\"\n",
    "    ]\n",
    "    # Define command for local tar extraction\n",
    "    tar_command = [\n",
    "        'tar',\n",
    "        '-xf',\n",
    "        '-',\n",
    "        '-C',\n",
    "        scratch_dir\n",
    "    ]\n",
    "    # Run 1st process (SSH and remote tar)\n",
    "    ssh_process = subprocess.Popen(ssh_command, stdout=subprocess.PIPE, text=True)\n",
    "    # Run 2nd process (local tar), which reads output form the 1st process\n",
    "    tar_process = subprocess.Popen(tar_command, stdin=ssh_process.stdout, text=True)\n",
    "    # Close output pipe from 1st process\n",
    "    ssh_process.stdout.close()\n",
    "    # Wait until processes finish\n",
    "    ssh_returncode = ssh_process.wait()\n",
    "    tar_returncode = tar_process.wait()\n",
    "    # Verify process finished successfully\n",
    "    if ssh_returncode != 0:\n",
    "        print(f\"SSH proces skončil s chybou: {ssh_returncode}\")\n",
    "    if tar_returncode != 0:\n",
    "        print(f\"Tar proces skončil s chybou: {tar_returncode}\")\n",
    "\n",
    "    # Store the scratch dataset so that it is used for training\n",
    "    train_data = change_path_to_scratch(scratch_dir, storage_dir, train_data)\n",
    "    val_data = change_path_to_scratch(scratch_dir, storage_dir, val_data)"
   ]
  },
  {
   "cell_type": "markdown",
   "id": "f3393009",
   "metadata": {},
   "source": [
    "# Create/update config file"
   ]
  },
  {
   "cell_type": "code",
   "execution_count": null,
   "id": "e8976fcb",
   "metadata": {
    "editable": true,
    "slideshow": {
     "slide_type": ""
    },
    "tags": []
   },
   "outputs": [],
   "source": [
    "config = {\n",
    "    \"log_dir\": log_dir,\n",
    "    \"save_freq\": save_freq,\n",
    "    \"device\": device,\n",
    "    \"epochs\": epochs,\n",
    "    \"batch_size\": batch_size,\n",
    "    \"pretrained_model\": pretrained_model,\n",
    "    \"train_data\": train_data,\n",
    "    \"val_data\": val_data,\n",
    "    \"show_progress\": show_progress,\n",
    "    \"preprocess_params\": preprocess_params,\n",
    "    \"model_params\": model_params,\n",
    "    \"optimizer_params\": optimizer_params,\n",
    "}\n",
    "\n",
    "config_file = os.path.join(scratch_dir, \"config.yml\")\n",
    "# Write to a YAML file\n",
    "yaml = YAML()\n",
    "yaml.representer.add_representer(float, float_representer)\n",
    "yaml.default_flow_style = False\n",
    "with open(config_file, 'w') as f:\n",
    "    yaml.dump(config, f)"
   ]
  },
  {
   "cell_type": "markdown",
   "id": "3511b4d5",
   "metadata": {},
   "source": [
    "## Run training script"
   ]
  },
  {
   "cell_type": "code",
   "execution_count": null,
   "id": "cf9419b3",
   "metadata": {},
   "outputs": [],
   "source": [
    "print( \" > Start training...\")\n",
    "print(f\" | > Batch size: {batch_size}\")\n",
    "print(f\" | > Epochs:     {epochs}\")\n",
    "print(f\" | > # workers:  {N_CPUS}\")\n",
    "\n",
    "!python train.py --num_workers={N_CPUS} {config_file}"
   ]
  },
  {
   "cell_type": "markdown",
   "id": "a2ddb788-d61f-4dfe-acc9-66c6546feb3f",
   "metadata": {},
   "source": [
    "# Cleanup"
   ]
  },
  {
   "cell_type": "code",
   "execution_count": null,
   "id": "873a8a1c-59ee-41e0-8d15-bcf7dbe905a9",
   "metadata": {
    "editable": true,
    "slideshow": {
     "slide_type": ""
    },
    "tags": []
   },
   "outputs": [],
   "source": [
    "if not INTERACTIVE_MODE:\n",
    "    # Delete all files and subdirectories in the directory\n",
    "    for filename in os.listdir(scratch_dir):\n",
    "        file_path = os.path.join(scratch_dir, filename)\n",
    "        try:\n",
    "            if os.path.isfile(file_path) or os.path.islink(file_path):\n",
    "                os.unlink(file_path)  # remove file or symlink\n",
    "            elif os.path.isdir(file_path):\n",
    "                shutil.rmtree(file_path)  # remove directory\n",
    "        except Exception as e:\n",
    "            print(f'Failed to delete {file_path}. Reason: {e}')"
   ]
  }
 ],
 "metadata": {
  "kernelspec": {
   "display_name": "Python 3 (ipykernel)",
   "language": "python",
   "name": "python3"
  },
  "language_info": {
   "codemirror_mode": {
    "name": "ipython",
    "version": 3
   },
   "file_extension": ".py",
   "mimetype": "text/x-python",
   "name": "python",
   "nbconvert_exporter": "python",
   "pygments_lexer": "ipython3",
   "version": "3.10.12"
  },
  "vscode": {
   "interpreter": {
    "hash": "b0fa6594d8f4cbf19f97940f81e996739fb7646882a419484c72d19e05852a7e"
   }
  }
 },
 "nbformat": 4,
 "nbformat_minor": 5
}
