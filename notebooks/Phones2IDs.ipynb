{
 "cells": [
  {
   "cell_type": "code",
   "execution_count": 5,
   "id": "ee9a4128-3653-4614-a3a8-b4a852f9f33c",
   "metadata": {},
   "outputs": [],
   "source": [
    "PAD = \"_\"\n",
    "PHONES = \"ACDEFGHIJLMNOPQRSTUWYZabcdefghijklmnopqrstuvwxyz#$@*Ç\\\\\"  # Czech phonetic alphabet EPA\n",
    "PUNCTUATION = \".,;:-?!–/()'„“”\\\"‚‘’—…«»ˈˌ \"\n",
    "\n",
    "DICT = \"../word_index_dict_cs.txt\""
   ]
  },
  {
   "cell_type": "code",
   "execution_count": 6,
   "id": "642d864e-d539-4bff-a31c-4f384f24ba2e",
   "metadata": {},
   "outputs": [],
   "source": [
    "symbols = PAD + PUNCTUATION + PHONES"
   ]
  },
  {
   "cell_type": "code",
   "execution_count": 7,
   "id": "dc495ca2-b7e6-4e40-aeb4-9fc7ec615ff5",
   "metadata": {},
   "outputs": [
    {
     "data": {
      "text/plain": [
       "81"
      ]
     },
     "execution_count": 7,
     "metadata": {},
     "output_type": "execute_result"
    }
   ],
   "source": [
    "n_symbols = len(symbols)\n",
    "n_symbols"
   ]
  },
  {
   "cell_type": "code",
   "execution_count": 8,
   "id": "d7df6112-1d3a-4426-b0a3-ab0407487c71",
   "metadata": {},
   "outputs": [],
   "source": [
    "with open(DICT, 'wt') as fw:\n",
    "    for i, s in enumerate(symbols):\n",
    "        print(f'{s},{i}', file=fw)"
   ]
  }
 ],
 "metadata": {
  "kernelspec": {
   "display_name": "Python 3 (ipykernel)",
   "language": "python",
   "name": "python3"
  },
  "language_info": {
   "codemirror_mode": {
    "name": "ipython",
    "version": 3
   },
   "file_extension": ".py",
   "mimetype": "text/x-python",
   "name": "python",
   "nbconvert_exporter": "python",
   "pygments_lexer": "ipython3",
   "version": "3.10.12"
  }
 },
 "nbformat": 4,
 "nbformat_minor": 5
}
