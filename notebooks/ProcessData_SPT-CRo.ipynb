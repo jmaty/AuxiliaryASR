{
 "cells": [
  {
   "cell_type": "code",
   "execution_count": null,
   "id": "05789142-e784-4f97-88bf-7249e93e66b9",
   "metadata": {},
   "outputs": [],
   "source": [
    "import os.path as osp\n",
    "from tqdm import tqdm"
   ]
  },
  {
   "cell_type": "code",
   "execution_count": null,
   "id": "ee9a4128-3653-4614-a3a8-b4a852f9f33c",
   "metadata": {},
   "outputs": [],
   "source": [
    "INP_CSV = '../data/val_SPT-CRo100.csv'\n",
    "OUT_CSV = '../data/val_SPT-CRo100.processed.csv'\n",
    "DATA_PATH = 'data/SPT-CRo.n100'\n",
    "BEG_SPK_ID = 2000"
   ]
  },
  {
   "cell_type": "code",
   "execution_count": null,
   "id": "606e322b-c14c-4d36-a0ef-1e17d300ebf8",
   "metadata": {},
   "outputs": [],
   "source": [
    "def count_lines(fname):\n",
    "    with open(fname, 'rb') as f:\n",
    "        n = 0\n",
    "        for block in iter(lambda: f.read(1024 * 1024), b''):\n",
    "            n += block.count(b'\\n')\n",
    "    return n\n",
    "\n",
    "# Modify filepath\n",
    "def modify_filepath(fname):\n",
    "    dname = fname.split('_')[0]\n",
    "    fpath = osp.join(DATA_PATH, dname, 'wavs', fname+'.wav')\n",
    "    return fpath, dname\n",
    "\n",
    "def modify_ph_string(ph):\n",
    "    ph = ph.replace('$ ', '')   # remove sentence-leading pauses\n",
    "    ph = ph.replace(' $', '')   # remove sentence-trailing pauses\n",
    "    ph = ph.replace(', #', ',') # replace phrase pauses with comma\n",
    "    ph = ph.replace(' #', ',')  # replace phrase pauses with comma\n",
    "    ph = ph.replace('-#', ',')\n",
    "    ph = ph.replace('&', 'a ')  # replace & => a\n",
    "    # ph = ph.replace('#', '')    # replace phrase pauses\n",
    "    ph = ph.replace('   ', ' ') # replace multiple spaces\n",
    "    ph = ph.replace('  ', ' ')\n",
    "    return ph"
   ]
  },
  {
   "cell_type": "code",
   "execution_count": null,
   "id": "d920fcb5-6301-4ec8-80fd-c1edb1d65741",
   "metadata": {},
   "outputs": [],
   "source": [
    "n_lines = count_lines(INP_CSV)\n",
    "n_lines"
   ]
  },
  {
   "cell_type": "code",
   "execution_count": null,
   "id": "d7df6112-1d3a-4426-b0a3-ab0407487c71",
   "metadata": {},
   "outputs": [],
   "source": [
    "# Poté zpracujte soubor s progress barem\n",
    "spk_ids = {}\n",
    "glob_spk_id = BEG_SPK_ID\n",
    "with open(INP_CSV, 'r') as fr, open(OUT_CSV, 'w') as fw:\n",
    "    for line in tqdm(fr, total=n_lines):\n",
    "        line = line.strip()\n",
    "        fname, ph = line.split('|')\n",
    "\n",
    "        fpath, spk_name = modify_filepath(fname)\n",
    "\n",
    "        if spk_name in spk_ids:\n",
    "           spk_id = spk_ids[spk_name] \n",
    "        else:\n",
    "            spk_id = glob_spk_id\n",
    "            spk_ids[spk_name] = glob_spk_id\n",
    "            glob_spk_id += 1\n",
    "    \n",
    "        ph = modify_ph_string(ph)\n",
    "\n",
    "        # Write modified line\n",
    "        print(f'{fpath}|{ph}|{spk_id}', file=fw)"
   ]
  }
 ],
 "metadata": {
  "kernelspec": {
   "display_name": "Python 3 (ipykernel)",
   "language": "python",
   "name": "python3"
  },
  "language_info": {
   "codemirror_mode": {
    "name": "ipython",
    "version": 3
   },
   "file_extension": ".py",
   "mimetype": "text/x-python",
   "name": "python",
   "nbconvert_exporter": "python",
   "pygments_lexer": "ipython3",
   "version": "3.10.12"
  }
 },
 "nbformat": 4,
 "nbformat_minor": 5
}
